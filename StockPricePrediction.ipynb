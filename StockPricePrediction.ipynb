{
 "cells": [
  {
   "cell_type": "markdown",
   "id": "b4918c0a-8cbd-454c-8bf3-7d88bc29fdcf",
   "metadata": {
    "panel-layout": {
     "height": 10,
     "visible": true,
     "width": 100
    }
   },
   "source": [
    "# Stock Price Prediction"
   ]
  },
  {
   "cell_type": "code",
   "execution_count": 11,
   "id": "b09a4ef9-6f12-4878-a1fe-f86b5311652f",
   "metadata": {},
   "outputs": [],
   "source": [
    "# Import libraries\n",
    "import numpy as np\n",
    "import pandas as pd\n",
    "import matplotlib.pyplot as plt\n",
    "import yfinance as yf"
   ]
  },
  {
   "cell_type": "code",
   "execution_count": null,
   "id": "08ac20f0-b8ed-42cd-84ba-76a01b0db54d",
   "metadata": {},
   "outputs": [],
   "source": []
  }
 ],
 "metadata": {
  "kernelspec": {
   "display_name": "Python 3 (ipykernel)",
   "language": "python",
   "name": "python3"
  },
  "language_info": {
   "codemirror_mode": {
    "name": "ipython",
    "version": 3
   },
   "file_extension": ".py",
   "mimetype": "text/x-python",
   "name": "python",
   "nbconvert_exporter": "python",
   "pygments_lexer": "ipython3",
   "version": "3.12.4"
  },
  "panel-cell-order": [
   "b4918c0a-8cbd-454c-8bf3-7d88bc29fdcf"
  ]
 },
 "nbformat": 4,
 "nbformat_minor": 5
}
